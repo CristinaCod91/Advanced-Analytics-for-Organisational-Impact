{
 "cells": [
  {
   "cell_type": "markdown",
   "id": "94199fa3",
   "metadata": {},
   "source": [
    "### LSE Data Analytics Online Career Accelerator \n",
    "\n",
    "# DA301:  Advanced Analytics for Organisational Impact"
   ]
  },
  {
   "cell_type": "markdown",
   "id": "46fcc342",
   "metadata": {},
   "source": [
    "## Practical activity: Using Python to extract sentiment scores from customer reviews"
   ]
  },
  {
   "cell_type": "markdown",
   "id": "26969258",
   "metadata": {},
   "source": [
    "**This is the solution to the activity.**\n",
    "\n",
    "An interior design company wants to gain more insights into how its customers are experiencing its products and services, and they’ve asked you to help! To get a brief overview of existing customer satisfaction, they would like to determine the percentage of customer reviews that express negative, positive, or neutral sentiments. The company has received several reviews from past customers on the Google business page.\n",
    "\n",
    "You will use the `vaderSentiment` library (an existing Python lexicon and rule-based sentiment analysis tool) to extract sentiment scores from these customer reviews. VADER stands for **V**alence **A**ware **D**ictionary and s**E**ntiment **R**easoner. It relies on a dictionary and a set of rules to extract meaning from text. The `vaderSentiment` library is optimised to analyse sentiments expressed in informal channels, such as customer reviews and social media commentary. This means that it processes text with emojis, slang, and unusual punctuation really well. Since this library doesn’t require training, you can use it right away for this activity.\n",
    "\n",
    "Use the `vaderSentiment` library to determine the sentiment scores from past customers’ reviews on the Google page. "
   ]
  },
  {
   "cell_type": "markdown",
   "id": "e0ec3ed0",
   "metadata": {},
   "source": [
    "## 1. Prepare your workstation"
   ]
  },
  {
   "cell_type": "code",
   "execution_count": 1,
   "id": "19b7bc2c",
   "metadata": {},
   "outputs": [
    {
     "name": "stdout",
     "output_type": "stream",
     "text": [
      "Collecting vaderSentiment\n",
      "  Downloading vaderSentiment-3.3.2-py2.py3-none-any.whl (125 kB)\n",
      "Requirement already satisfied: requests in c:\\users\\nachi\\anaconda3\\lib\\site-packages (from vaderSentiment) (2.26.0)\n",
      "Requirement already satisfied: charset-normalizer~=2.0.0 in c:\\users\\nachi\\anaconda3\\lib\\site-packages (from requests->vaderSentiment) (2.0.4)\n",
      "Requirement already satisfied: urllib3<1.27,>=1.21.1 in c:\\users\\nachi\\anaconda3\\lib\\site-packages (from requests->vaderSentiment) (1.26.7)\n",
      "Requirement already satisfied: idna<4,>=2.5 in c:\\users\\nachi\\anaconda3\\lib\\site-packages (from requests->vaderSentiment) (3.2)\n",
      "Requirement already satisfied: certifi>=2017.4.17 in c:\\users\\nachi\\anaconda3\\lib\\site-packages (from requests->vaderSentiment) (2021.10.8)\n",
      "Installing collected packages: vaderSentiment\n",
      "Successfully installed vaderSentiment-3.3.2\n"
     ]
    }
   ],
   "source": [
    "# Install vaderSentiment tool.\n",
    "!pip install vaderSentiment"
   ]
  },
  {
   "cell_type": "code",
   "execution_count": 2,
   "id": "1189a268",
   "metadata": {},
   "outputs": [],
   "source": [
    "# Import the necessary class.\n",
    "from vaderSentiment.vaderSentiment import SentimentIntensityAnalyzer\n",
    "\n",
    "# Create an object from the class.\n",
    "sia = SentimentIntensityAnalyzer()"
   ]
  },
  {
   "cell_type": "markdown",
   "id": "8a657692",
   "metadata": {},
   "source": [
    "## 2. Define the input data"
   ]
  },
  {
   "cell_type": "code",
   "execution_count": 3,
   "id": "78df595c",
   "metadata": {},
   "outputs": [],
   "source": [
    "# Define the input data.\n",
    "sentences = [\n",
    "    \"Excellent customer service. Also loved the amazing showroom where you can get a real feel of the top quality furniture and get inspiration for room designs.\",\n",
    "    \"I found the sales person to be quite rude and stuck up... don't think she realised I know all the suppliers she uses. I got the sofa & chair elsewhere. I will not be coming back\",\n",
    "    \"Thank you for finding replacement crystals for my chandelier.\",\n",
    "    \"I have worked with the team in several houses. All work was carried out on time and to budget.\"]"
   ]
  },
  {
   "cell_type": "markdown",
   "id": "abb192e4",
   "metadata": {},
   "source": [
    "## 3. Apply sentiment analysis"
   ]
  },
  {
   "cell_type": "code",
   "execution_count": 8,
   "id": "6a7980fd",
   "metadata": {},
   "outputs": [
    {
     "name": "stdout",
     "output_type": "stream",
     "text": [
      "The sentiment value of the sentence :\"Excellent customer service. Also loved the amazing showroom where you can get a real feel of the top quality furniture and get inspiration for room designs.\" is : 0.9485\n",
      "==================================================\n",
      "The sentiment value of the sentence :\"I found the sales person to be quite rude and stuck up... don't think she realised I know all the suppliers she uses. I got the sofa & chair elsewhere. I will not be coming back\" is : -0.6764\n",
      "==================================================\n",
      "The sentiment value of the sentence :\"Thank you for finding replacement crystals for my chandelier.\" is : 0.3612\n",
      "==================================================\n",
      "The sentiment value of the sentence :\"I have worked with the team in several houses. All work was carried out on time and to budget.\" is : 0.0\n",
      "==================================================\n"
     ]
    }
   ],
   "source": [
    "# Apply sentiment analysis.\n",
    "for sentence in sentences:\n",
    "    score = sia.polarity_scores(sentence)['compound']\n",
    "    print(f'The sentiment value of the sentence :\"{sentence}\" is : {score}')\n",
    "    # If you insert this line of code, you will have a line break between the outputs.\n",
    "    print(\"=\"*50)"
   ]
  },
  {
   "cell_type": "markdown",
   "id": "5946755e",
   "metadata": {},
   "source": [
    "## 4. Calculate the output"
   ]
  },
  {
   "cell_type": "code",
   "execution_count": 9,
   "id": "94577f6d",
   "metadata": {},
   "outputs": [
    {
     "name": "stdout",
     "output_type": "stream",
     "text": [
      "For the sentence \"Excellent customer service. Also loved the amazing showroom where you can get a real feel of the top quality furniture and get inspiration for room designs.\"\n",
      "The percentage of positive sentiment in :\"Excellent customer service. Also loved the amazing showroom where you can get a real feel of the top quality furniture and get inspiration for room designs.\" is : 44.1 %\n",
      "The percentage of neutral sentiment in :\"Excellent customer service. Also loved the amazing showroom where you can get a real feel of the top quality furniture and get inspiration for room designs.\" is : 55.9 %\n",
      "The percentage of negative sentiment in :\"Excellent customer service. Also loved the amazing showroom where you can get a real feel of the top quality furniture and get inspiration for room designs.\" is : 0.0 %\n",
      "==================================================\n",
      "For the sentence \"I found the sales person to be quite rude and stuck up... don't think she realised I know all the suppliers she uses. I got the sofa & chair elsewhere. I will not be coming back\"\n",
      "The percentage of positive sentiment in :\"I found the sales person to be quite rude and stuck up... don't think she realised I know all the suppliers she uses. I got the sofa & chair elsewhere. I will not be coming back\" is : 0.0 %\n",
      "The percentage of neutral sentiment in :\"I found the sales person to be quite rude and stuck up... don't think she realised I know all the suppliers she uses. I got the sofa & chair elsewhere. I will not be coming back\" is : 86.0 %\n",
      "The percentage of negative sentiment in :\"I found the sales person to be quite rude and stuck up... don't think she realised I know all the suppliers she uses. I got the sofa & chair elsewhere. I will not be coming back\" is : 14.0 %\n",
      "==================================================\n",
      "For the sentence \"Thank you for finding replacement crystals for my chandelier.\"\n",
      "The percentage of positive sentiment in :\"Thank you for finding replacement crystals for my chandelier.\" is : 23.8 %\n",
      "The percentage of neutral sentiment in :\"Thank you for finding replacement crystals for my chandelier.\" is : 76.2 %\n",
      "The percentage of negative sentiment in :\"Thank you for finding replacement crystals for my chandelier.\" is : 0.0 %\n",
      "==================================================\n",
      "For the sentence \"I have worked with the team in several houses. All work was carried out on time and to budget.\"\n",
      "The percentage of positive sentiment in :\"I have worked with the team in several houses. All work was carried out on time and to budget.\" is : 0.0 %\n",
      "The percentage of neutral sentiment in :\"I have worked with the team in several houses. All work was carried out on time and to budget.\" is : 100.0 %\n",
      "The percentage of negative sentiment in :\"I have worked with the team in several houses. All work was carried out on time and to budget.\" is : 0.0 %\n",
      "==================================================\n"
     ]
    }
   ],
   "source": [
    "# Calculate the percentage of the output.\n",
    "for sentence in sentences:\n",
    "    print(f'For the sentence \"{sentence}\"')\n",
    "    # Calculate the scores.\n",
    "    polarity = sia.polarity_scores(sentence)\n",
    "    pos = polarity['pos']\n",
    "    neu = polarity['neu']\n",
    "    neg = polarity['neg']\n",
    "    \n",
    "    # Display the scores.\n",
    "    print(f'The percentage of positive sentiment in :\"{sentence}\" is : {round(pos*100,2)} %')\n",
    "    print(f'The percentage of neutral sentiment in :\"{sentence}\" is : {round(neu*100,2)} %')\n",
    "    print(f'The percentage of negative sentiment in :\"{sentence}\" is : {round(neg*100,2)} %')\n",
    "    print(\"=\"*50)"
   ]
  },
  {
   "cell_type": "code",
   "execution_count": null,
   "id": "bf683cd6",
   "metadata": {},
   "outputs": [],
   "source": []
  }
 ],
 "metadata": {
  "kernelspec": {
   "display_name": "Python 3 (ipykernel)",
   "language": "python",
   "name": "python3"
  },
  "language_info": {
   "codemirror_mode": {
    "name": "ipython",
    "version": 3
   },
   "file_extension": ".py",
   "mimetype": "text/x-python",
   "name": "python",
   "nbconvert_exporter": "python",
   "pygments_lexer": "ipython3",
   "version": "3.9.7"
  }
 },
 "nbformat": 4,
 "nbformat_minor": 5
}

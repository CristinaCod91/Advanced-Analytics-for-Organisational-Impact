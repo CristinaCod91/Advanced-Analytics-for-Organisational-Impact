{
 "cells": [
  {
   "cell_type": "markdown",
   "id": "94199fa3",
   "metadata": {},
   "source": [
    "### LSE Data Analytics Online Career Accelerator \n",
    "# Course 301: Advanced Analytics for Organisational Impact"
   ]
  },
  {
   "cell_type": "markdown",
   "id": "46fcc342",
   "metadata": {},
   "source": [
    "## Practical activity: Conducting multiple linear regression using Python"
   ]
  },
  {
   "cell_type": "markdown",
   "id": "26969258",
   "metadata": {},
   "source": [
    "**This is the solution to the activity.**\n",
    "\n",
    "In MLR you are adding another variable (or two or three or more!) to the calculation when you run your regression. Most likely, in the real world, you’ll have more than two variables to deal with, so MLR allows you to handle this and find predictive results that can help your business grow. This activity will build on the simple linear regression practical exercise from earlier, but this time, there will be another variable to work with. \n",
    "\n",
    "The main objective is to run multiple linear regression on three variables to predict future median business values. You’ll need to divide the data into training and testing subsets and use these to test the model with OLS. You’ll also check for multicollinearity and homoscedasticity. "
   ]
  },
  {
   "cell_type": "markdown",
   "id": "e0ec3ed0",
   "metadata": {},
   "source": [
    "## 1. Prepare your workstation"
   ]
  },
  {
   "cell_type": "code",
   "execution_count": 1,
   "id": "19b7bc2c",
   "metadata": {},
   "outputs": [],
   "source": [
    "# Import all the necessary packages.\n",
    "import numpy as np\n",
    "import pandas as pd\n",
    "import statsmodels.api as sm\n",
    "import statsmodels.stats.api as sms\n",
    "import sklearn\n",
    "import matplotlib.pyplot as plt\n",
    "\n",
    "from sklearn import datasets \n",
    "from sklearn import linear_model\n",
    "from statsmodels.stats.outliers_influence import variance_inflation_factor\n",
    "from sklearn.model_selection import train_test_split\n",
    "from sklearn import metrics\n",
    "from sklearn.linear_model import LinearRegression\n",
    "from statsmodels.formula.api import ols\n",
    "\n",
    "import warnings  \n",
    "warnings.filterwarnings('ignore')  "
   ]
  },
  {
   "cell_type": "markdown",
   "id": "8a657692",
   "metadata": {},
   "source": [
    "## 2. Import data set"
   ]
  },
  {
   "cell_type": "code",
   "execution_count": 2,
   "id": "78df595c",
   "metadata": {},
   "outputs": [
    {
     "data": {
      "text/html": [
       "<div>\n",
       "<style scoped>\n",
       "    .dataframe tbody tr th:only-of-type {\n",
       "        vertical-align: middle;\n",
       "    }\n",
       "\n",
       "    .dataframe tbody tr th {\n",
       "        vertical-align: top;\n",
       "    }\n",
       "\n",
       "    .dataframe thead th {\n",
       "        text-align: right;\n",
       "    }\n",
       "</style>\n",
       "<table border=\"1\" class=\"dataframe\">\n",
       "  <thead>\n",
       "    <tr style=\"text-align: right;\">\n",
       "      <th></th>\n",
       "      <th>Sale</th>\n",
       "      <th>por_OS</th>\n",
       "      <th>por_NON</th>\n",
       "      <th>recc</th>\n",
       "      <th>avg_no_it</th>\n",
       "      <th>age</th>\n",
       "      <th>dis</th>\n",
       "      <th>diff_reg</th>\n",
       "      <th>tax</th>\n",
       "      <th>bk</th>\n",
       "      <th>lowstat</th>\n",
       "      <th>Median_s</th>\n",
       "    </tr>\n",
       "  </thead>\n",
       "  <tbody>\n",
       "    <tr>\n",
       "      <th>0</th>\n",
       "      <td>0.63</td>\n",
       "      <td>18.0</td>\n",
       "      <td>2.31</td>\n",
       "      <td>0</td>\n",
       "      <td>6.575</td>\n",
       "      <td>65.2</td>\n",
       "      <td>4.0900</td>\n",
       "      <td>1</td>\n",
       "      <td>296</td>\n",
       "      <td>396.90</td>\n",
       "      <td>4.98</td>\n",
       "      <td>24.0</td>\n",
       "    </tr>\n",
       "    <tr>\n",
       "      <th>1</th>\n",
       "      <td>2.73</td>\n",
       "      <td>0.0</td>\n",
       "      <td>7.07</td>\n",
       "      <td>0</td>\n",
       "      <td>6.421</td>\n",
       "      <td>78.9</td>\n",
       "      <td>4.9671</td>\n",
       "      <td>2</td>\n",
       "      <td>242</td>\n",
       "      <td>396.90</td>\n",
       "      <td>9.14</td>\n",
       "      <td>21.6</td>\n",
       "    </tr>\n",
       "    <tr>\n",
       "      <th>2</th>\n",
       "      <td>2.73</td>\n",
       "      <td>0.0</td>\n",
       "      <td>7.07</td>\n",
       "      <td>0</td>\n",
       "      <td>7.185</td>\n",
       "      <td>61.1</td>\n",
       "      <td>4.9671</td>\n",
       "      <td>2</td>\n",
       "      <td>242</td>\n",
       "      <td>392.83</td>\n",
       "      <td>4.03</td>\n",
       "      <td>34.7</td>\n",
       "    </tr>\n",
       "    <tr>\n",
       "      <th>3</th>\n",
       "      <td>3.24</td>\n",
       "      <td>0.0</td>\n",
       "      <td>2.18</td>\n",
       "      <td>0</td>\n",
       "      <td>6.998</td>\n",
       "      <td>45.8</td>\n",
       "      <td>6.0622</td>\n",
       "      <td>3</td>\n",
       "      <td>222</td>\n",
       "      <td>394.63</td>\n",
       "      <td>2.94</td>\n",
       "      <td>33.4</td>\n",
       "    </tr>\n",
       "    <tr>\n",
       "      <th>4</th>\n",
       "      <td>6.91</td>\n",
       "      <td>0.0</td>\n",
       "      <td>2.18</td>\n",
       "      <td>0</td>\n",
       "      <td>7.147</td>\n",
       "      <td>54.2</td>\n",
       "      <td>6.0622</td>\n",
       "      <td>3</td>\n",
       "      <td>222</td>\n",
       "      <td>396.90</td>\n",
       "      <td>5.33</td>\n",
       "      <td>36.2</td>\n",
       "    </tr>\n",
       "  </tbody>\n",
       "</table>\n",
       "</div>"
      ],
      "text/plain": [
       "   Sale  por_OS  por_NON  recc  avg_no_it   age     dis  diff_reg  tax  \\\n",
       "0  0.63    18.0     2.31     0      6.575  65.2  4.0900         1  296   \n",
       "1  2.73     0.0     7.07     0      6.421  78.9  4.9671         2  242   \n",
       "2  2.73     0.0     7.07     0      7.185  61.1  4.9671         2  242   \n",
       "3  3.24     0.0     2.18     0      6.998  45.8  6.0622         3  222   \n",
       "4  6.91     0.0     2.18     0      7.147  54.2  6.0622         3  222   \n",
       "\n",
       "       bk  lowstat  Median_s  \n",
       "0  396.90     4.98      24.0  \n",
       "1  396.90     9.14      21.6  \n",
       "2  392.83     4.03      34.7  \n",
       "3  394.63     2.94      33.4  \n",
       "4  396.90     5.33      36.2  "
      ]
     },
     "execution_count": 2,
     "metadata": {},
     "output_type": "execute_result"
    }
   ],
   "source": [
    "# Import the data set.\n",
    "df_ecom = pd.read_csv('Ecommerce_data.csv')\n",
    "\n",
    "# View the DataFrame.\n",
    "df_ecom.head()"
   ]
  },
  {
   "cell_type": "code",
   "execution_count": 3,
   "id": "24a6103b",
   "metadata": {},
   "outputs": [
    {
     "name": "stdout",
     "output_type": "stream",
     "text": [
      "<class 'pandas.core.frame.DataFrame'>\n",
      "RangeIndex: 506 entries, 0 to 505\n",
      "Data columns (total 12 columns):\n",
      " #   Column     Non-Null Count  Dtype  \n",
      "---  ------     --------------  -----  \n",
      " 0   Sale       506 non-null    float64\n",
      " 1   por_OS     506 non-null    float64\n",
      " 2   por_NON    506 non-null    float64\n",
      " 3   recc       506 non-null    int64  \n",
      " 4   avg_no_it  506 non-null    float64\n",
      " 5   age        506 non-null    float64\n",
      " 6   dis        506 non-null    float64\n",
      " 7   diff_reg   506 non-null    int64  \n",
      " 8   tax        506 non-null    int64  \n",
      " 9   bk         506 non-null    float64\n",
      " 10  lowstat    506 non-null    float64\n",
      " 11  Median_s   506 non-null    float64\n",
      "dtypes: float64(9), int64(3)\n",
      "memory usage: 47.6 KB\n"
     ]
    }
   ],
   "source": [
    "# View the metadata.\n",
    "df_ecom.info()"
   ]
  },
  {
   "cell_type": "markdown",
   "id": "a2b6ccab",
   "metadata": {},
   "source": [
    "## 3 Define variables"
   ]
  },
  {
   "cell_type": "code",
   "execution_count": 4,
   "id": "d95605e9",
   "metadata": {},
   "outputs": [],
   "source": [
    "# Define the dependent variable.\n",
    "y = df_ecom['Median_s'] \n",
    "\n",
    "# Define the independent variable.\n",
    "X = df_ecom[['avg_no_it', 'tax']] "
   ]
  },
  {
   "cell_type": "code",
   "execution_count": 5,
   "id": "098a8711",
   "metadata": {},
   "outputs": [
    {
     "data": {
      "text/html": [
       "<style>#sk-container-id-1 {color: black;background-color: white;}#sk-container-id-1 pre{padding: 0;}#sk-container-id-1 div.sk-toggleable {background-color: white;}#sk-container-id-1 label.sk-toggleable__label {cursor: pointer;display: block;width: 100%;margin-bottom: 0;padding: 0.3em;box-sizing: border-box;text-align: center;}#sk-container-id-1 label.sk-toggleable__label-arrow:before {content: \"▸\";float: left;margin-right: 0.25em;color: #696969;}#sk-container-id-1 label.sk-toggleable__label-arrow:hover:before {color: black;}#sk-container-id-1 div.sk-estimator:hover label.sk-toggleable__label-arrow:before {color: black;}#sk-container-id-1 div.sk-toggleable__content {max-height: 0;max-width: 0;overflow: hidden;text-align: left;background-color: #f0f8ff;}#sk-container-id-1 div.sk-toggleable__content pre {margin: 0.2em;color: black;border-radius: 0.25em;background-color: #f0f8ff;}#sk-container-id-1 input.sk-toggleable__control:checked~div.sk-toggleable__content {max-height: 200px;max-width: 100%;overflow: auto;}#sk-container-id-1 input.sk-toggleable__control:checked~label.sk-toggleable__label-arrow:before {content: \"▾\";}#sk-container-id-1 div.sk-estimator input.sk-toggleable__control:checked~label.sk-toggleable__label {background-color: #d4ebff;}#sk-container-id-1 div.sk-label input.sk-toggleable__control:checked~label.sk-toggleable__label {background-color: #d4ebff;}#sk-container-id-1 input.sk-hidden--visually {border: 0;clip: rect(1px 1px 1px 1px);clip: rect(1px, 1px, 1px, 1px);height: 1px;margin: -1px;overflow: hidden;padding: 0;position: absolute;width: 1px;}#sk-container-id-1 div.sk-estimator {font-family: monospace;background-color: #f0f8ff;border: 1px dotted black;border-radius: 0.25em;box-sizing: border-box;margin-bottom: 0.5em;}#sk-container-id-1 div.sk-estimator:hover {background-color: #d4ebff;}#sk-container-id-1 div.sk-parallel-item::after {content: \"\";width: 100%;border-bottom: 1px solid gray;flex-grow: 1;}#sk-container-id-1 div.sk-label:hover label.sk-toggleable__label {background-color: #d4ebff;}#sk-container-id-1 div.sk-serial::before {content: \"\";position: absolute;border-left: 1px solid gray;box-sizing: border-box;top: 0;bottom: 0;left: 50%;z-index: 0;}#sk-container-id-1 div.sk-serial {display: flex;flex-direction: column;align-items: center;background-color: white;padding-right: 0.2em;padding-left: 0.2em;position: relative;}#sk-container-id-1 div.sk-item {position: relative;z-index: 1;}#sk-container-id-1 div.sk-parallel {display: flex;align-items: stretch;justify-content: center;background-color: white;position: relative;}#sk-container-id-1 div.sk-item::before, #sk-container-id-1 div.sk-parallel-item::before {content: \"\";position: absolute;border-left: 1px solid gray;box-sizing: border-box;top: 0;bottom: 0;left: 50%;z-index: -1;}#sk-container-id-1 div.sk-parallel-item {display: flex;flex-direction: column;z-index: 1;position: relative;background-color: white;}#sk-container-id-1 div.sk-parallel-item:first-child::after {align-self: flex-end;width: 50%;}#sk-container-id-1 div.sk-parallel-item:last-child::after {align-self: flex-start;width: 50%;}#sk-container-id-1 div.sk-parallel-item:only-child::after {width: 0;}#sk-container-id-1 div.sk-dashed-wrapped {border: 1px dashed gray;margin: 0 0.4em 0.5em 0.4em;box-sizing: border-box;padding-bottom: 0.4em;background-color: white;}#sk-container-id-1 div.sk-label label {font-family: monospace;font-weight: bold;display: inline-block;line-height: 1.2em;}#sk-container-id-1 div.sk-label-container {text-align: center;}#sk-container-id-1 div.sk-container {/* jupyter's `normalize.less` sets `[hidden] { display: none; }` but bootstrap.min.css set `[hidden] { display: none !important; }` so we also need the `!important` here to be able to override the default hidden behavior on the sphinx rendered scikit-learn.org. See: https://github.com/scikit-learn/scikit-learn/issues/21755 */display: inline-block !important;position: relative;}#sk-container-id-1 div.sk-text-repr-fallback {display: none;}</style><div id=\"sk-container-id-1\" class=\"sk-top-container\"><div class=\"sk-text-repr-fallback\"><pre>LinearRegression()</pre><b>In a Jupyter environment, please rerun this cell to show the HTML representation or trust the notebook. <br />On GitHub, the HTML representation is unable to render, please try loading this page with nbviewer.org.</b></div><div class=\"sk-container\" hidden><div class=\"sk-item\"><div class=\"sk-estimator sk-toggleable\"><input class=\"sk-toggleable__control sk-hidden--visually\" id=\"sk-estimator-id-1\" type=\"checkbox\" checked><label for=\"sk-estimator-id-1\" class=\"sk-toggleable__label sk-toggleable__label-arrow\">LinearRegression</label><div class=\"sk-toggleable__content\"><pre>LinearRegression()</pre></div></div></div></div></div>"
      ],
      "text/plain": [
       "LinearRegression()"
      ]
     },
     "execution_count": 5,
     "metadata": {},
     "output_type": "execute_result"
    }
   ],
   "source": [
    "# Specify the model.\n",
    "multi = LinearRegression()  \n",
    "\n",
    "# Fit the model.\n",
    "multi.fit(X, y)"
   ]
  },
  {
   "cell_type": "code",
   "execution_count": 7,
   "id": "a3910080",
   "metadata": {
    "scrolled": true
   },
   "outputs": [
    {
     "data": {
      "text/plain": [
       "array([26.63108645, 26.25540212, 32.36181073, 31.18391582, 32.37482535,\n",
       "       26.64407278, 21.89365442, 23.17248345, 18.8484428 , 21.82971297,\n",
       "       24.81098314, 21.86967638, 20.91055461, 21.4534628 , 22.62838696,\n",
       "       20.53430443, 21.34156526, 21.78116273, 17.51307086, 19.67908752,\n",
       "       18.42423654, 21.5813457 , 22.99605031, 20.36645812, 21.25364576,\n",
       "       18.6560243 , 20.36645812, 22.23674558, 25.81746685, 27.24815682,\n",
       "       19.56718998, 22.43656261, 21.46145548, 19.4712778 , 22.62838696,\n",
       "       21.76901102, 21.03368433, 21.10561847, 22.03276951, 27.48776043,\n",
       "       30.91662076, 29.18737937, 24.38377784, 24.71947046, 23.5845097 ,\n",
       "       20.49134199, 21.32258085, 23.27279512, 18.22941315, 19.85192747,\n",
       "       22.57891721, 23.79380478, 26.95890662, 22.85866105, 18.4003434 ,\n",
       "       33.12673155, 24.82726558, 29.19079572, 23.38427535, 21.6418708 ,\n",
       "       20.15523206, 21.95358538, 25.86999928, 28.31575979, 32.12616101,\n",
       "       23.70386238, 19.68354362, 20.28418302, 18.0142615 , 20.34013179,\n",
       "       25.22571135, 21.58104863, 22.41228749, 23.85097015, 22.6019404 ,\n",
       "       22.70584526, 22.64989649, 21.53891377, 22.27424046, 19.41286052,\n",
       "       28.08352642, 27.22031682, 24.68663682, 23.60762482, 25.92045219,\n",
       "       27.84668841, 22.93118933, 23.77841356, 30.4956823 , 31.07115536,\n",
       "       25.78000027, 25.68408809, 25.9798173 , 24.13350789, 24.43722979,\n",
       "       27.34745704, 23.65483823, 38.88888901, 36.89871134, 33.66966805,\n",
       "       26.45233333, 26.88393813, 23.87868991, 21.73665129, 21.97643174,\n",
       "       19.45074441, 19.33085419, 21.65672448, 24.43018493, 22.47197799,\n",
       "       22.20022682, 25.5962535 , 19.186123  , 20.61681298, 21.91162737,\n",
       "       19.30601323, 21.28819822, 20.0493326 , 18.85842307, 17.73145499,\n",
       "       22.70662327, 23.77764258, 23.43395728, 22.59472573, 22.7785574 ,\n",
       "       23.63377431, 20.65250414, 17.34854896, 23.24714785, 16.9009588 ,\n",
       "       23.46295025, 22.4079163 , 22.77557965, 18.37960487, 17.86008057,\n",
       "       22.47985043, 19.33872664, 23.43097952, 18.65934871, 21.00919705,\n",
       "       21.19302872, 11.96148169, 15.56912344, 16.08864773, 11.57278273,\n",
       "       21.37980283, 17.36747676, 11.7566144 , 13.83471157, 17.11970363,\n",
       "       21.31586138, 15.57711612, 12.443985  , 18.01488395, 21.37181015,\n",
       "       21.55564182, 14.52208217, 27.87785282, 20.86827122, 24.41702177,\n",
       "       22.3389246 , 32.24185688, 34.74356616, 39.32337262, 19.17382276,\n",
       "       21.14801507, 35.7586367 , 19.35765443, 22.89041962, 23.55381218,\n",
       "       19.34166907, 19.38163247, 18.61442699, 25.36025011, 20.90832656,\n",
       "       26.39929869, 22.19514826, 24.55298928, 28.90900066, 31.49931551,\n",
       "       37.77357043, 24.81743385, 32.89803476, 28.16636736, 20.50138588,\n",
       "       24.88936798, 38.3010874 , 26.67021524, 24.86386924, 29.89126586,\n",
       "       28.0209784 , 26.32652994, 29.83531709, 28.92038138, 27.35381582,\n",
       "       37.67088217, 31.79926036, 30.36057771, 31.6953555 , 28.14945545,\n",
       "       29.42828448, 22.50659407, 34.07999676, 37.98598478, 39.43266012,\n",
       "       21.46499206, 24.94180847, 20.60178246, 22.84772594, 17.09299532,\n",
       "       22.01648707, 17.5725562 , 20.79360682, 25.33344986, 17.63649766,\n",
       "       23.79086235, 21.45685084, 27.48333263, 21.96038977, 25.33330133,\n",
       "       29.46212958, 23.1718893 , 28.88665652, 26.80056667, 39.97250564,\n",
       "       43.64114642, 38.16615964, 31.15657804, 35.33675042, 26.27304969,\n",
       "       21.7092286 , 33.14675571, 40.53998603, 39.8206447 , 27.66377626,\n",
       "       22.54846015, 26.90447152, 32.71515092, 25.81642709, 26.81551227,\n",
       "       29.14138256, 22.73125207, 24.83332728, 25.11307113, 18.24382121,\n",
       "       18.33973339, 22.36005214, 23.30318855, 24.9576736 , 27.23558781,\n",
       "       25.3892784 , 24.99763701, 29.14583867, 39.55230987, 22.59760453,\n",
       "       20.74330244, 34.48016838, 44.15428363, 33.1963174 , 29.27191082,\n",
       "       32.15726882, 34.69094883, 41.70852311, 33.14836131, 32.18124686,\n",
       "       19.02529325, 30.64665203, 40.90126229, 34.29131476, 22.55196843,\n",
       "       22.04043681, 25.10962648, 27.49144554, 36.70700722, 28.75889385,\n",
       "       29.52619126, 32.82716869, 29.30239618, 26.55291377, 29.79229803,\n",
       "       37.8489209 , 31.03915634, 36.45020166, 38.95722996, 30.90553711,\n",
       "       25.59263201, 24.7446368 , 23.75327553, 24.60049976, 26.59867012,\n",
       "       29.72467147, 32.01857103, 27.87836206, 23.16122296, 22.21808655,\n",
       "       27.56519042, 26.53413452, 20.46768932, 23.81088651, 29.37379278,\n",
       "       28.01503693, 26.22836141, 25.46905668, 29.36149253, 33.086174  ,\n",
       "       28.13071152, 34.55682738, 29.99300629, 26.98395273, 21.68480495,\n",
       "       13.70011621, 22.88370716, 22.0924317 , 24.03465328, 26.44045039,\n",
       "       19.55075901, 21.22122942, 20.16619548, 24.96180433, 22.81177303,\n",
       "       25.58270835, 25.18307428, 22.50552601, 19.8439631 , 25.49478886,\n",
       "       25.62267176, 24.67154267, 22.84121863, 18.85812599, 22.57472285,\n",
       "       21.06410606, 19.55875169, 22.15637315, 25.70123344, 25.65327735,\n",
       "       23.47127533, 22.12850485, 22.33631456, 23.64711432, 23.05565589,\n",
       "       22.91978031, 32.14425419, 24.35590252, 26.42627577, 27.84897307,\n",
       "       21.26032991, 20.33317887, 25.28849281, 27.36403655, 28.92278627,\n",
       "       25.33407231, 24.84182218, 19.28690859, 29.58018075, 18.73996161,\n",
       "       20.92196363, 17.87011745, 19.33277815, 17.19073953, 17.0708493 ,\n",
       "       19.35675619, 18.18183202, 11.07633824, 14.60111075, 38.39532333,\n",
       "       -3.318481  ,  7.88725835, -0.90469121,  7.94320712, 21.63467039,\n",
       "       24.29623331, 17.90208817, 15.17658381,  7.43167551,  1.29329618,\n",
       "       26.67005969, 21.36291923, 22.52185803, 19.21288792, 17.95803694,\n",
       "       23.9125846 , 20.53168036, 12.46706481, 12.3391819 ,  3.13161291,\n",
       "       10.39696032,  5.40153443,  8.18298757,  7.2238658 , 11.30013332,\n",
       "       13.88176942, 16.58329574,  8.4707241 , 17.7182565 , 15.27249598,\n",
       "       19.94022193, 19.41270496, 14.15352059, 11.80367225, 14.99275213,\n",
       "       16.07176413, 18.91715871, 19.40471228, 10.97243338, 12.4271014 ,\n",
       "       13.64198898,  1.29329618, 13.04253787, 13.114472  , 22.98543355,\n",
       "       14.2334474 , 21.42686068,  5.20971008,  9.42185319,  4.3385078 ,\n",
       "       19.64449272, 22.42594585, 10.61276272, 15.83198368, 22.76163847,\n",
       "       19.46066105, 16.22362507, 13.36224513, 16.99891517, 12.69885257,\n",
       "       15.34443012, 14.87286191, 17.79019063, 17.7182565 , 19.21288792,\n",
       "       18.95712212, 22.83357261, 19.57255859, 19.66047808, 17.83814672,\n",
       "       21.2030656 , 19.86029512, 17.39055656, 15.65614469, 13.19439882,\n",
       "       14.72100097, 19.42069764, 17.92606622, 20.05211947, 15.0087375 ,\n",
       "       19.84430976, 18.90117335, 18.18183202, 17.65431505, 19.50861714,\n",
       "       22.16218737, 21.41087531, 18.54949537, 27.3094742 , 21.99434106,\n",
       "       20.37182673, 15.98384463, 15.66413737, 18.58146609, 16.82307618,\n",
       "       21.77853866, 19.1809172 , 18.70934899, 20.27591455, 17.8461394 ,\n",
       "       14.24943276, 15.79202028, 16.19964703, 15.58421056, 13.88176942,\n",
       "       17.51044678, 18.00599303, 19.66847077, 24.00849678, 11.59586253,\n",
       "       17.47048337, 20.04412679, 10.61276272, 17.65431505, 18.00599303,\n",
       "       18.10989789, 22.17018005, 24.65590397, 14.27341081, 15.14461308,\n",
       "       18.66938559, 17.08683467, 15.41636425, 11.09900776, 10.7793005 ,\n",
       "        8.21364976, 15.32713623, 15.32713623, 18.1889405 , 19.93933773,\n",
       "       17.89321129, 15.65526049, 18.88430379, 20.6826571 , 17.08595047,\n",
       "       20.74659856, 27.13920172, 23.35866341, 30.2003987 , 28.74573068,\n",
       "       22.63932208])"
      ]
     },
     "execution_count": 7,
     "metadata": {},
     "output_type": "execute_result"
    }
   ],
   "source": [
    "# Call the predictions for X (array).\n",
    "multi.predict(X)"
   ]
  },
  {
   "cell_type": "code",
   "execution_count": 8,
   "id": "b0779f6f",
   "metadata": {},
   "outputs": [
    {
     "name": "stdout",
     "output_type": "stream",
     "text": [
      "R-squared:  0.5605639377690896\n",
      "Intercept:  -21.233093360562155\n",
      "Coefficients:\n"
     ]
    },
    {
     "data": {
      "text/plain": [
       "[('avg_no_it', 7.992681419323307), ('tax', -0.015836826081673562)]"
      ]
     },
     "execution_count": 8,
     "metadata": {},
     "output_type": "execute_result"
    }
   ],
   "source": [
    "# Checking the value of R-squared, intercept and coefficients.\n",
    "print(\"R-squared: \", multi.score(X, y))\n",
    "print(\"Intercept: \", multi.intercept_)\n",
    "print(\"Coefficients:\")\n",
    "\n",
    "list(zip(X, multi.coef_))"
   ]
  },
  {
   "cell_type": "code",
   "execution_count": 9,
   "id": "0ce6d207",
   "metadata": {},
   "outputs": [
    {
     "name": "stdout",
     "output_type": "stream",
     "text": [
      "Predicted Value: \n",
      " [24.48410504]\n"
     ]
    }
   ],
   "source": [
    "# Make predictions.\n",
    "New_Value1 = 5.75\n",
    "New_Value2 = 15.2\n",
    "print ('Predicted Value: \\n', multi.predict([[New_Value1 ,New_Value2]]))  "
   ]
  },
  {
   "cell_type": "markdown",
   "id": "965439bd",
   "metadata": {},
   "source": [
    "## 4. Training and testing subsets with MLR"
   ]
  },
  {
   "cell_type": "code",
   "execution_count": 10,
   "id": "0ca0c807",
   "metadata": {},
   "outputs": [],
   "source": [
    "# Create train and test data sets.\n",
    "x_train, x_test, y_train, y_test = train_test_split(X, y,\n",
    "                                                    test_size=0.2,\n",
    "                                                    random_state=5)"
   ]
  },
  {
   "cell_type": "code",
   "execution_count": 11,
   "id": "861dabc2",
   "metadata": {},
   "outputs": [
    {
     "name": "stdout",
     "output_type": "stream",
     "text": [
      "                            OLS Regression Results                            \n",
      "==============================================================================\n",
      "Dep. Variable:               Median_s   R-squared:                       0.516\n",
      "Model:                            OLS   Adj. R-squared:                  0.514\n",
      "Method:                 Least Squares   F-statistic:                     214.0\n",
      "Date:                Fri, 29 Jul 2022   Prob (F-statistic):           5.66e-64\n",
      "Time:                        08:44:12   Log-Likelihood:                -1326.1\n",
      "No. Observations:                 404   AIC:                             2658.\n",
      "Df Residuals:                     401   BIC:                             2670.\n",
      "Df Model:                           2                                         \n",
      "Covariance Type:            nonrobust                                         \n",
      "==============================================================================\n",
      "                 coef    std err          t      P>|t|      [0.025      0.975]\n",
      "------------------------------------------------------------------------------\n",
      "const        -19.6702      3.347     -5.877      0.000     -26.250     -13.091\n",
      "avg_no_it      7.7844      0.482     16.156      0.000       6.837       8.732\n",
      "tax           -0.0164      0.002     -8.257      0.000      -0.020      -0.012\n",
      "==============================================================================\n",
      "Omnibus:                      216.200   Durbin-Watson:                   2.110\n",
      "Prob(Omnibus):                  0.000   Jarque-Bera (JB):             1876.960\n",
      "Skew:                           2.121   Prob(JB):                         0.00\n",
      "Kurtosis:                      12.670   Cond. No.                     4.61e+03\n",
      "==============================================================================\n",
      "\n",
      "Notes:\n",
      "[1] Standard Errors assume that the covariance matrix of the errors is correctly specified.\n",
      "[2] The condition number is large, 4.61e+03. This might indicate that there are\n",
      "strong multicollinearity or other numerical problems.\n"
     ]
    }
   ],
   "source": [
    "# Training the model using the 'statsmodel' OLS library.\n",
    "# Fit the model with the added constant.\n",
    "model = sm.OLS(y_train, sm.add_constant(x_train)).fit()\n",
    "\n",
    "# Set the predicted response vector.\n",
    "Y_pred = model.predict(sm.add_constant(x_test)) \n",
    "\n",
    "# Call a summary of the model.\n",
    "print_model = model.summary()\n",
    "\n",
    "# Print the summary.\n",
    "print(print_model)  "
   ]
  },
  {
   "cell_type": "code",
   "execution_count": 12,
   "id": "ab30e73f",
   "metadata": {},
   "outputs": [
    {
     "name": "stdout",
     "output_type": "stream",
     "text": [
      "51.60542653523377\n"
     ]
    }
   ],
   "source": [
    "print(multi.score(x_train, y_train)*100)"
   ]
  },
  {
   "cell_type": "markdown",
   "id": "8ea232d4",
   "metadata": {},
   "source": [
    "## 5. Run a regression test"
   ]
  },
  {
   "cell_type": "code",
   "execution_count": 13,
   "id": "35104399",
   "metadata": {},
   "outputs": [
    {
     "data": {
      "text/html": [
       "<style>#sk-container-id-2 {color: black;background-color: white;}#sk-container-id-2 pre{padding: 0;}#sk-container-id-2 div.sk-toggleable {background-color: white;}#sk-container-id-2 label.sk-toggleable__label {cursor: pointer;display: block;width: 100%;margin-bottom: 0;padding: 0.3em;box-sizing: border-box;text-align: center;}#sk-container-id-2 label.sk-toggleable__label-arrow:before {content: \"▸\";float: left;margin-right: 0.25em;color: #696969;}#sk-container-id-2 label.sk-toggleable__label-arrow:hover:before {color: black;}#sk-container-id-2 div.sk-estimator:hover label.sk-toggleable__label-arrow:before {color: black;}#sk-container-id-2 div.sk-toggleable__content {max-height: 0;max-width: 0;overflow: hidden;text-align: left;background-color: #f0f8ff;}#sk-container-id-2 div.sk-toggleable__content pre {margin: 0.2em;color: black;border-radius: 0.25em;background-color: #f0f8ff;}#sk-container-id-2 input.sk-toggleable__control:checked~div.sk-toggleable__content {max-height: 200px;max-width: 100%;overflow: auto;}#sk-container-id-2 input.sk-toggleable__control:checked~label.sk-toggleable__label-arrow:before {content: \"▾\";}#sk-container-id-2 div.sk-estimator input.sk-toggleable__control:checked~label.sk-toggleable__label {background-color: #d4ebff;}#sk-container-id-2 div.sk-label input.sk-toggleable__control:checked~label.sk-toggleable__label {background-color: #d4ebff;}#sk-container-id-2 input.sk-hidden--visually {border: 0;clip: rect(1px 1px 1px 1px);clip: rect(1px, 1px, 1px, 1px);height: 1px;margin: -1px;overflow: hidden;padding: 0;position: absolute;width: 1px;}#sk-container-id-2 div.sk-estimator {font-family: monospace;background-color: #f0f8ff;border: 1px dotted black;border-radius: 0.25em;box-sizing: border-box;margin-bottom: 0.5em;}#sk-container-id-2 div.sk-estimator:hover {background-color: #d4ebff;}#sk-container-id-2 div.sk-parallel-item::after {content: \"\";width: 100%;border-bottom: 1px solid gray;flex-grow: 1;}#sk-container-id-2 div.sk-label:hover label.sk-toggleable__label {background-color: #d4ebff;}#sk-container-id-2 div.sk-serial::before {content: \"\";position: absolute;border-left: 1px solid gray;box-sizing: border-box;top: 0;bottom: 0;left: 50%;z-index: 0;}#sk-container-id-2 div.sk-serial {display: flex;flex-direction: column;align-items: center;background-color: white;padding-right: 0.2em;padding-left: 0.2em;position: relative;}#sk-container-id-2 div.sk-item {position: relative;z-index: 1;}#sk-container-id-2 div.sk-parallel {display: flex;align-items: stretch;justify-content: center;background-color: white;position: relative;}#sk-container-id-2 div.sk-item::before, #sk-container-id-2 div.sk-parallel-item::before {content: \"\";position: absolute;border-left: 1px solid gray;box-sizing: border-box;top: 0;bottom: 0;left: 50%;z-index: -1;}#sk-container-id-2 div.sk-parallel-item {display: flex;flex-direction: column;z-index: 1;position: relative;background-color: white;}#sk-container-id-2 div.sk-parallel-item:first-child::after {align-self: flex-end;width: 50%;}#sk-container-id-2 div.sk-parallel-item:last-child::after {align-self: flex-start;width: 50%;}#sk-container-id-2 div.sk-parallel-item:only-child::after {width: 0;}#sk-container-id-2 div.sk-dashed-wrapped {border: 1px dashed gray;margin: 0 0.4em 0.5em 0.4em;box-sizing: border-box;padding-bottom: 0.4em;background-color: white;}#sk-container-id-2 div.sk-label label {font-family: monospace;font-weight: bold;display: inline-block;line-height: 1.2em;}#sk-container-id-2 div.sk-label-container {text-align: center;}#sk-container-id-2 div.sk-container {/* jupyter's `normalize.less` sets `[hidden] { display: none; }` but bootstrap.min.css set `[hidden] { display: none !important; }` so we also need the `!important` here to be able to override the default hidden behavior on the sphinx rendered scikit-learn.org. See: https://github.com/scikit-learn/scikit-learn/issues/21755 */display: inline-block !important;position: relative;}#sk-container-id-2 div.sk-text-repr-fallback {display: none;}</style><div id=\"sk-container-id-2\" class=\"sk-top-container\"><div class=\"sk-text-repr-fallback\"><pre>LinearRegression()</pre><b>In a Jupyter environment, please rerun this cell to show the HTML representation or trust the notebook. <br />On GitHub, the HTML representation is unable to render, please try loading this page with nbviewer.org.</b></div><div class=\"sk-container\" hidden><div class=\"sk-item\"><div class=\"sk-estimator sk-toggleable\"><input class=\"sk-toggleable__control sk-hidden--visually\" id=\"sk-estimator-id-2\" type=\"checkbox\" checked><label for=\"sk-estimator-id-2\" class=\"sk-toggleable__label sk-toggleable__label-arrow\">LinearRegression</label><div class=\"sk-toggleable__content\"><pre>LinearRegression()</pre></div></div></div></div></div>"
      ],
      "text/plain": [
       "LinearRegression()"
      ]
     },
     "execution_count": 13,
     "metadata": {},
     "output_type": "execute_result"
    }
   ],
   "source": [
    "# Run regression on the train subset.\n",
    "mlr = LinearRegression()  \n",
    "\n",
    "mlr.fit(x_train, y_train)"
   ]
  },
  {
   "cell_type": "code",
   "execution_count": 18,
   "id": "3acec206",
   "metadata": {},
   "outputs": [
    {
     "name": "stdout",
     "output_type": "stream",
     "text": [
      "Prediction for test set: [19.68077167 38.76268832 15.79429553 23.49922927 19.2739039   8.11113341\n",
      " 22.59791218 14.06288888 26.39447012 21.86039213 19.79545594 30.26529047\n",
      " 21.22777796 21.44808858 20.79264432 23.45370907 21.97392517 18.46339447\n",
      " 23.11847005 34.4541126  25.78072075 19.76882387 23.04084157 26.82686538\n",
      " 17.75595394 22.13454223 20.1246662  37.45556138 34.46353646 25.41954164\n",
      " 14.71226966 21.05474884 20.37149849 22.93705789 11.66858537  5.63570732\n",
      " 25.934629   26.27064708 22.2364656  21.61934447 17.77360377 18.96641292\n",
      " 31.56527838 15.15597811 26.66444607 20.36881247 24.43706724 23.85868181\n",
      " 18.76614735 24.03793148 19.70204364 17.6314042  21.96729204 33.05748004\n",
      " 11.14180696 25.42261122 31.1691132  31.06150421 21.95950768 28.04224855\n",
      " 18.54177868 31.03384325 24.53573494 19.40072084 20.55261985 21.02538463\n",
      " 30.45308592 -2.85702811 24.909733   19.05594186 17.05358842 21.07872391\n",
      " 22.54333459 12.74517546 19.53717674 29.52410786 22.68984204 16.15237603\n",
      " 31.01355975 36.30385414 21.09084518 23.29169095  8.0566429  21.41668368\n",
      " 32.02703216 19.22719775 32.86618479 24.12806479 17.86720216 21.38031987\n",
      " 22.03620004 24.877491   28.85074631 17.86493496 22.91933239 27.25260989\n",
      " 22.86244664 24.32851643 29.30614581 17.56912933 28.19548814 25.86720913\n",
      " 12.39253074 32.57945417 25.64924709 19.28168826 29.81948328 21.79603615\n",
      " 23.73407972 26.05492321 20.74475221 20.36043514 21.55432553 25.06625729\n",
      " 23.39089358 29.27659552 22.76119763 20.71609139  1.6345469  13.66138122\n",
      " 23.51369342 15.12484067 25.36408029 21.8167032  17.56912933 27.54071254\n",
      " 34.54472279 17.42901087 18.88676707 24.68964319 19.52300339 26.01901864\n",
      " 22.1202932  23.95161154 14.86017247 24.87956641 13.22545713 22.01284696\n",
      " 29.10550239 22.6549897  21.93045136 19.08707929 20.43628469 37.66611693\n",
      " 23.01522699 17.39305965 15.25973276 23.78482629 18.2255268  23.6555908\n",
      " 25.41873355 19.47064634 32.32898265 13.38892867 23.89994648 18.5577429\n",
      " 39.21649498 25.04117764 24.25673633 24.40614491 30.00924374 26.35000213\n",
      " 21.29919159 22.79863698 35.45215002 21.3879705  32.29725224 27.38120005\n",
      " 20.55261985 29.26692753 21.11489594 17.86012118 18.4936948  19.71761236\n",
      " 26.62832639 15.78885974 19.28947262 26.24077698 26.30526099 27.78008598\n",
      " 22.47233924 17.70146343 27.89504911 27.2207981  21.44030422 24.99619806\n",
      " 22.64313589 28.74588709 27.18123098 23.23436929 18.47211495 18.66102067\n",
      " 17.00087114 25.65196783 12.51708048 31.96010056 38.62181413 13.89491199\n",
      " 10.71110924 29.72598959 29.08125985 20.4907752  23.93281049 21.9384218\n",
      " 19.20384468 19.43737544 26.34988604 31.66647505 19.4786458  22.04726909\n",
      " 19.32839442 20.78054638 21.60781617 29.68798059 18.48340481 19.883165\n",
      " 17.39008908 28.88298832 43.76140359 20.91202004 23.91635231 19.50743467\n",
      " 28.92360766 23.44454698 16.75955602 26.40651001 19.50199888 15.62303964\n",
      " 21.18107181 15.63082399 16.29484306 18.94279238 22.34781853 33.86966369\n",
      " 29.28774595 19.76103951 14.09965389 34.15550485 23.98827184 19.42781785\n",
      " 19.02906565 18.08289701 29.19554862 27.39787334 22.26299866 13.89491199\n",
      " 28.31664279 25.28712616 14.59550428 25.25219244 19.08707929 30.60583724\n",
      " 17.81044445 18.83797981 23.56543416 21.22913236 25.18218556 24.78496815\n",
      " 32.07708105 27.39353643 21.58585846 23.11367389 22.55021185 27.00049318\n",
      " 23.75769456 26.84025398 29.41122015 21.61129265 15.75537373 22.38221163\n",
      " 22.54703187 24.64051279 32.73904804 -0.50615176 21.94529337 24.76455093\n",
      " 20.81039315 43.22067263 22.94516776 21.64412763 27.25495276 25.30444478\n",
      " 24.84610943 14.25299249 25.69088962 37.61464365 39.49974913 12.47815869\n",
      " 18.79905802 21.22234217 20.94458756 24.38822762 32.10043413 32.09251604\n",
      " 12.74282689 17.92239605 19.90443697  3.42494942 23.82684669 16.93081191\n",
      " 26.43869966 11.8709787  22.21639152 18.85673421 22.29874047 21.61907701\n",
      " 22.56876878 40.20034142 22.6777498   1.6345469  14.15958018 13.14761354\n",
      " 26.60537451 25.42673302 11.3805641  20.12239901 29.29224562 22.20217721\n",
      " 19.28737957 18.44097751 22.75559339 24.55254196 21.50231162 16.52602525\n",
      " 32.04535064 27.51353415 26.63573289  9.55123979 18.35182644 22.32397718\n",
      " 25.76690193  8.34466417 28.25784439 23.66428226 20.06279822 40.59316956\n",
      " 27.92093115 15.25973276 22.52989934 37.76954037 17.77930702 22.48707085\n",
      " 18.55680678 21.44574    28.77680942 12.0757206  19.58741172 22.37313661\n",
      " 25.56633988 33.0890477  23.86450116 14.27634557 31.503922   18.08289701\n",
      " 19.29960555 22.26523114  7.41054112 34.35849115 26.47115678 26.74759741\n",
      " 18.59666469 11.89668035 21.81373833 22.18822466 10.50093156 20.05660101\n",
      " 29.21413457 11.16260205 23.41340955 22.30980383 22.71799128 17.54034047\n",
      " 23.84815338 23.10766846 15.55298041 19.77418397 22.61339382 23.77445493\n",
      " 37.79198635 21.6511039  23.75729906 22.37415981 28.09332064 17.31224549\n",
      " 20.67735568 14.97693786 39.20095529 23.28169745 22.99779797 20.94988961\n",
      " 19.28395546 21.24334668 18.7834893  32.99980954 35.13272385 19.07035935\n",
      " 23.94821645 16.02782629 18.96479675 17.01643986 29.7424711  18.06380516\n",
      " 25.03729997 21.06792232]\n"
     ]
    }
   ],
   "source": [
    "# Call the predictions for X in the test set.\n",
    "y_pred_mlr = mlr.predict(x_train)  \n",
    "\n",
    "# Print the predictions.\n",
    "print(\"Prediction for test set: {}\".format(y_pred_mlr)) "
   ]
  },
  {
   "cell_type": "code",
   "execution_count": 17,
   "id": "5b4f71fd",
   "metadata": {},
   "outputs": [
    {
     "name": "stdout",
     "output_type": "stream",
     "text": [
      "74.99168993835433\n"
     ]
    }
   ],
   "source": [
    "# Print the R-squared value.\n",
    "print(mlr.score(x_test, y_test)*100)"
   ]
  },
  {
   "cell_type": "markdown",
   "id": "5ce6b7ed",
   "metadata": {},
   "source": [
    "# 6. Check for multicollinearity"
   ]
  },
  {
   "cell_type": "code",
   "execution_count": 19,
   "id": "91d58b3b",
   "metadata": {},
   "outputs": [
    {
     "name": "stdout",
     "output_type": "stream",
     "text": [
      "   VIF Factor   features\n",
      "0       108.1      const\n",
      "1         1.1  avg_no_it\n",
      "2         1.1        tax\n"
     ]
    }
   ],
   "source": [
    "# Check multicollinearity.\n",
    "x_temp = sm.add_constant(x_train)\n",
    "\n",
    "# Create an empty DataFrame. \n",
    "vif = pd.DataFrame()\n",
    "\n",
    "# Calculate the VIF for each value.\n",
    "vif['VIF Factor'] = [variance_inflation_factor(x_temp.values,\n",
    "                                               i) for i in range(x_temp.values.shape[1])]\n",
    "\n",
    "# Create the feature columns.\n",
    "vif['features'] = x_temp.columns\n",
    "\n",
    "# Print the values to one decimal points.\n",
    "print(vif.round(1))"
   ]
  },
  {
   "cell_type": "code",
   "execution_count": 21,
   "id": "52d60fc8",
   "metadata": {},
   "outputs": [
    {
     "ename": "AttributeError",
     "evalue": "'tuple' object has no attribute 'resid'",
     "output_type": "error",
     "traceback": [
      "\u001b[1;31m---------------------------------------------------------------------------\u001b[0m",
      "\u001b[1;31mAttributeError\u001b[0m                            Traceback (most recent call last)",
      "\u001b[1;32m~\\AppData\\Local\\Temp/ipykernel_24904/4164305599.py\u001b[0m in \u001b[0;36m<module>\u001b[1;34m\u001b[0m\n\u001b[0;32m      1\u001b[0m \u001b[1;31m# Determine heteroscedasticity.\u001b[0m\u001b[1;33m\u001b[0m\u001b[1;33m\u001b[0m\u001b[0m\n\u001b[1;32m----> 2\u001b[1;33m \u001b[0mmodel\u001b[0m \u001b[1;33m=\u001b[0m \u001b[0msms\u001b[0m\u001b[1;33m.\u001b[0m\u001b[0mhet_breuschpagan\u001b[0m\u001b[1;33m(\u001b[0m\u001b[0mmodel\u001b[0m\u001b[1;33m.\u001b[0m\u001b[0mresid\u001b[0m\u001b[1;33m,\u001b[0m \u001b[0mmodel\u001b[0m\u001b[1;33m.\u001b[0m\u001b[0mmodel\u001b[0m\u001b[1;33m.\u001b[0m\u001b[0mexog\u001b[0m\u001b[1;33m)\u001b[0m\u001b[1;33m\u001b[0m\u001b[1;33m\u001b[0m\u001b[0m\n\u001b[0m\u001b[0;32m      3\u001b[0m \u001b[0mmodel\u001b[0m\u001b[1;33m\u001b[0m\u001b[1;33m\u001b[0m\u001b[0m\n",
      "\u001b[1;31mAttributeError\u001b[0m: 'tuple' object has no attribute 'resid'"
     ]
    }
   ],
   "source": [
    "# Determine heteroscedasticity.\n",
    "model = sms.het_breuschpagan(model.resid, model.model.exog)"
   ]
  },
  {
   "cell_type": "code",
   "execution_count": 22,
   "id": "c945280e",
   "metadata": {},
   "outputs": [
    {
     "name": "stdout",
     "output_type": "stream",
     "text": [
      "{'LM stat': 25.713614774720472, 'LM Test p-value': 2.6083117438458204e-06, 'F-stat': 13.628774292950478, 'F-test p-value': 1.8775385253290868e-06}\n"
     ]
    }
   ],
   "source": [
    "terms = ['LM stat', 'LM Test p-value', 'F-stat', 'F-test p-value']\n",
    "print(dict(zip(terms, model)))"
   ]
  },
  {
   "cell_type": "markdown",
   "id": "f54ddd2d",
   "metadata": {},
   "source": [
    "`Note:` We always fit the model to train data and evaluate the performance of the model using the test data. We predict the test data and compare the predictions with actual test values.\n",
    "- rerun the model on the test data and jot down your observation."
   ]
  },
  {
   "cell_type": "markdown",
   "id": "b28fe423",
   "metadata": {},
   "source": [
    "# 7. Evaluate the model"
   ]
  },
  {
   "cell_type": "code",
   "execution_count": 23,
   "id": "910aea8d",
   "metadata": {},
   "outputs": [
    {
     "name": "stdout",
     "output_type": "stream",
     "text": [
      "Mean Absolute Error (Final): 3.1768857470046203\n",
      "Mean Square Error (Final): 19.57997344483996\n"
     ]
    }
   ],
   "source": [
    "# Call the metrics.mean_absolute_error function.  \n",
    "print('Mean Absolute Error (Final):', metrics.mean_absolute_error(y_test, Y_pred))  \n",
    "\n",
    "# Call the metrics.mean_squared_error function.\n",
    "print('Mean Square Error (Final):', metrics.mean_squared_error(y_test, Y_pred))  "
   ]
  },
  {
   "cell_type": "code",
   "execution_count": null,
   "id": "6ca2fd92",
   "metadata": {},
   "outputs": [],
   "source": []
  }
 ],
 "metadata": {
  "kernelspec": {
   "display_name": "Python 3 (ipykernel)",
   "language": "python",
   "name": "python3"
  },
  "language_info": {
   "codemirror_mode": {
    "name": "ipython",
    "version": 3
   },
   "file_extension": ".py",
   "mimetype": "text/x-python",
   "name": "python",
   "nbconvert_exporter": "python",
   "pygments_lexer": "ipython3",
   "version": "3.9.7"
  }
 },
 "nbformat": 4,
 "nbformat_minor": 5
}

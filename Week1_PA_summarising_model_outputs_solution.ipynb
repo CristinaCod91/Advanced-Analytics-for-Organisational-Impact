{
 "cells": [
  {
   "cell_type": "markdown",
   "id": "94199fa3",
   "metadata": {},
   "source": [
    "### LSE Data Analytics Online Career Accelerator \n",
    "# Course 301: Advanced Analytics for Organisational Impact"
   ]
  },
  {
   "cell_type": "markdown",
   "id": "46fcc342",
   "metadata": {},
   "source": [
    "## Practical activity: Summarising model outputs"
   ]
  },
  {
   "cell_type": "markdown",
   "id": "26969258",
   "metadata": {},
   "source": [
    "**This is the solution to the activity.**\n",
    "\n",
    "Your client wants to retire when their wealth exceeds £1 million. The current salary is £250,000, the cost of living is 3%, thre is a savings rate of 15%, an interest rate of 5%, and they recieve two promotions per year at a promotion raise of 10%. Create and test a model that will allow us to calculate how many years until the client's preferred level of savings is reached. \n",
    "\n",
    "The model essentially tracks wages and savings and maintains a constant growth rate (which includes both the cost of living, raises, and regular wage increases tied to promotions). To prepare your findings for presentation, you now need to summarise your results and visualise the change in wealth over time for the client. "
   ]
  },
  {
   "cell_type": "markdown",
   "id": "e0ec3ed0",
   "metadata": {},
   "source": [
    "## 1. Prepare your workstation"
   ]
  },
  {
   "cell_type": "code",
   "execution_count": 1,
   "id": "19b7bc2c",
   "metadata": {},
   "outputs": [],
   "source": [
    "# Import the necessary libraries.\n",
    "import pandas as pd\n",
    "import random\n",
    "%matplotlib inline\n",
    "from dataclasses import dataclass\n",
    "from sensitivity import SensitivityAnalyzer"
   ]
  },
  {
   "cell_type": "markdown",
   "id": "8a657692",
   "metadata": {},
   "source": [
    "## 2. Specify the model inputs"
   ]
  },
  {
   "cell_type": "code",
   "execution_count": 2,
   "id": "78df595c",
   "metadata": {},
   "outputs": [
    {
     "data": {
      "text/plain": [
       "ModelInputs(starting_salary=250000, promos_every_n_years=2, cost_of_living_raise=0.03, promo_raise=0.1, savings_rate=0.15, interest_rate=0.05, desired_cash=1000000)"
      ]
     },
     "execution_count": 2,
     "metadata": {},
     "output_type": "execute_result"
    }
   ],
   "source": [
    "# Create a class and instance.\n",
    "@dataclass\n",
    "class ModelInputs:\n",
    "    starting_salary: int = 250000\n",
    "    promos_every_n_years: int = 2\n",
    "    cost_of_living_raise: float = 0.03\n",
    "    promo_raise: float = 0.10\n",
    "    savings_rate: float = 0.15\n",
    "    interest_rate: float = 0.05\n",
    "    desired_cash: int = 1000000\n",
    "        \n",
    "model_data = ModelInputs()\n",
    "\n",
    "model_data"
   ]
  },
  {
   "cell_type": "markdown",
   "id": "3d7fb98e",
   "metadata": {},
   "source": [
    "## 3. Write a statistical formula"
   ]
  },
  {
   "cell_type": "code",
   "execution_count": 3,
   "id": "834eddaa",
   "metadata": {},
   "outputs": [
    {
     "name": "stdout",
     "output_type": "stream",
     "text": [
      "The wage at year 1 is £257,500.\n",
      "The wage at year 2 is £291,748.\n",
      "The wage at year 3 is £300,500.\n",
      "The wage at year 4 is £340,466.\n"
     ]
    }
   ],
   "source": [
    "# Calculate wage at a given year from start of the model based on cost of living, \n",
    "# raises, and regular promotion.\n",
    "def wages_year(data: ModelInputs, year)->float:\n",
    "    \"\"\"\n",
    "    Gets the wage at a given year from the start of the model based \n",
    "    on cost of living raises and regular promotions.\n",
    "    \"\"\"\n",
    "    # Every n years we have a promotion, so dividing the years and taking \n",
    "    # out the decimals gets the number of promotions.\n",
    "    num_promos = int(year / data.promos_every_n_years)\n",
    "    \n",
    "    # This is the formula above implemented in Python.\n",
    "    salary_t = data.starting_salary * (1 + data.cost_of_living_raise)\\\n",
    "    ** year * (1 + data.promo_raise) ** num_promos\n",
    "    return salary_t\n",
    "\n",
    "for i in range(4):\n",
    "    year = i + 1\n",
    "    salary = wages_year(model_data, year)\n",
    "    print(f\"The wage at year {year} is £{salary:,.0f}.\")"
   ]
  },
  {
   "cell_type": "code",
   "execution_count": 4,
   "id": "c76cbb3f",
   "metadata": {},
   "outputs": [],
   "source": [
    "def cash_saved_during_year(data: ModelInputs, year):\n",
    "    \"\"\"\n",
    "    Calculated the cash saved within a given year, by first \n",
    "    calculating the salary at that year then applying the \n",
    "    savings rate.\n",
    "    \"\"\"\n",
    "    salary = wages_year(data, year)\n",
    "    cash_saved = salary * data.savings_rate\n",
    "    return cash_saved"
   ]
  },
  {
   "cell_type": "code",
   "execution_count": 5,
   "id": "3564c169",
   "metadata": {},
   "outputs": [],
   "source": [
    "def wealth_year(data: ModelInputs, year, prior_wealth):\n",
    "    \"\"\"\n",
    "    Calculate the accumulated wealth for a given year, \n",
    "    based on previous wealth, the investment rate,\n",
    "    and cash saved during the year.\n",
    "    \"\"\"\n",
    "    cash_saved = cash_saved_during_year(data, year)\n",
    "    wealth = prior_wealth * (1 + data.interest_rate) + cash_saved\n",
    "    return wealth"
   ]
  },
  {
   "cell_type": "code",
   "execution_count": 6,
   "id": "752aca71",
   "metadata": {},
   "outputs": [
    {
     "name": "stdout",
     "output_type": "stream",
     "text": [
      "The wealth at year 1 is £38,625.\n",
      "The wealth at year 2 is £84,318.\n",
      "The wealth at year 3 is £133,609.\n",
      "The wealth at year 4 is £191,360.\n"
     ]
    }
   ],
   "source": [
    "# Starting with no cash saved.\n",
    "prior_wealth = 0  \n",
    "for i in range(4):\n",
    "    year = i + 1\n",
    "    wealth = wealth_year(model_data, year, prior_wealth)\n",
    "    print(f\"The wealth at year {year} is £{wealth:,.0f}.\")\n",
    "    \n",
    "    # Set next year's prior wealth to this year's wealth.\n",
    "    prior_wealth = wealth"
   ]
  },
  {
   "cell_type": "code",
   "execution_count": 7,
   "id": "7f557e07",
   "metadata": {},
   "outputs": [],
   "source": [
    "# Runs the retirement model; collects salary and wealth information year by year\n",
    "# and stores it in a DataFrame for further analysis.\n",
    "def get_salaries_wealths_df(data):\n",
    "    # Start with no cash saved.\n",
    "    prior_wealth = 0   \n",
    "    wealth = 0\n",
    "    # The ‘year’ becomes ‘1’ on the first loop.\n",
    "    year = 0  \n",
    "\n",
    "    df_data_tups = []\n",
    "    while wealth < data.desired_cash:\n",
    "        year = year + 1\n",
    "        salary = wages_year(data, year)\n",
    "        wealth = wealth_year(data, year, prior_wealth)\n",
    "\n",
    "         # Set next year's prior wealth to this year's wealth.\n",
    "        prior_wealth = wealth \n",
    "\n",
    "        # Save the results in a tuple for later building the DataFrame.\n",
    "        df_data_tups.append((year, salary, wealth))\n",
    "        \n",
    "    # Now we have run the while loop, so wealth must be >= desired_cash. \n",
    "    # Create the DataFrame.\n",
    "    df = pd.DataFrame(df_data_tups, columns=['Year', 'Salary', 'Wealth'])\n",
    "    \n",
    "    return df"
   ]
  },
  {
   "cell_type": "code",
   "execution_count": 8,
   "id": "adb83e19",
   "metadata": {},
   "outputs": [
    {
     "data": {
      "text/html": [
       "<div>\n",
       "<style scoped>\n",
       "    .dataframe tbody tr th:only-of-type {\n",
       "        vertical-align: middle;\n",
       "    }\n",
       "\n",
       "    .dataframe tbody tr th {\n",
       "        vertical-align: top;\n",
       "    }\n",
       "\n",
       "    .dataframe thead th {\n",
       "        text-align: right;\n",
       "    }\n",
       "</style>\n",
       "<table border=\"1\" class=\"dataframe\">\n",
       "  <thead>\n",
       "    <tr style=\"text-align: right;\">\n",
       "      <th></th>\n",
       "      <th>Year</th>\n",
       "      <th>Salary</th>\n",
       "      <th>Wealth</th>\n",
       "    </tr>\n",
       "  </thead>\n",
       "  <tbody>\n",
       "    <tr>\n",
       "      <th>0</th>\n",
       "      <td>1</td>\n",
       "      <td>257500.000000</td>\n",
       "      <td>3.862500e+04</td>\n",
       "    </tr>\n",
       "    <tr>\n",
       "      <th>1</th>\n",
       "      <td>2</td>\n",
       "      <td>291747.500000</td>\n",
       "      <td>8.431838e+04</td>\n",
       "    </tr>\n",
       "    <tr>\n",
       "      <th>2</th>\n",
       "      <td>3</td>\n",
       "      <td>300499.925000</td>\n",
       "      <td>1.336093e+05</td>\n",
       "    </tr>\n",
       "    <tr>\n",
       "      <th>3</th>\n",
       "      <td>4</td>\n",
       "      <td>340466.415025</td>\n",
       "      <td>1.913597e+05</td>\n",
       "    </tr>\n",
       "    <tr>\n",
       "      <th>4</th>\n",
       "      <td>5</td>\n",
       "      <td>350680.407476</td>\n",
       "      <td>2.535298e+05</td>\n",
       "    </tr>\n",
       "    <tr>\n",
       "      <th>5</th>\n",
       "      <td>6</td>\n",
       "      <td>397320.901670</td>\n",
       "      <td>3.258044e+05</td>\n",
       "    </tr>\n",
       "    <tr>\n",
       "      <th>6</th>\n",
       "      <td>7</td>\n",
       "      <td>409240.528720</td>\n",
       "      <td>4.034807e+05</td>\n",
       "    </tr>\n",
       "    <tr>\n",
       "      <th>7</th>\n",
       "      <td>8</td>\n",
       "      <td>463669.519040</td>\n",
       "      <td>4.932051e+05</td>\n",
       "    </tr>\n",
       "    <tr>\n",
       "      <th>8</th>\n",
       "      <td>9</td>\n",
       "      <td>477579.604611</td>\n",
       "      <td>5.895023e+05</td>\n",
       "    </tr>\n",
       "    <tr>\n",
       "      <th>9</th>\n",
       "      <td>10</td>\n",
       "      <td>541097.692024</td>\n",
       "      <td>7.001421e+05</td>\n",
       "    </tr>\n",
       "    <tr>\n",
       "      <th>10</th>\n",
       "      <td>11</td>\n",
       "      <td>557330.622785</td>\n",
       "      <td>8.187488e+05</td>\n",
       "    </tr>\n",
       "    <tr>\n",
       "      <th>11</th>\n",
       "      <td>12</td>\n",
       "      <td>631455.595616</td>\n",
       "      <td>9.544046e+05</td>\n",
       "    </tr>\n",
       "    <tr>\n",
       "      <th>12</th>\n",
       "      <td>13</td>\n",
       "      <td>650399.263484</td>\n",
       "      <td>1.099685e+06</td>\n",
       "    </tr>\n",
       "  </tbody>\n",
       "</table>\n",
       "</div>"
      ],
      "text/plain": [
       "    Year         Salary        Wealth\n",
       "0      1  257500.000000  3.862500e+04\n",
       "1      2  291747.500000  8.431838e+04\n",
       "2      3  300499.925000  1.336093e+05\n",
       "3      4  340466.415025  1.913597e+05\n",
       "4      5  350680.407476  2.535298e+05\n",
       "5      6  397320.901670  3.258044e+05\n",
       "6      7  409240.528720  4.034807e+05\n",
       "7      8  463669.519040  4.932051e+05\n",
       "8      9  477579.604611  5.895023e+05\n",
       "9     10  541097.692024  7.001421e+05\n",
       "10    11  557330.622785  8.187488e+05\n",
       "11    12  631455.595616  9.544046e+05\n",
       "12    13  650399.263484  1.099685e+06"
      ]
     },
     "execution_count": 8,
     "metadata": {},
     "output_type": "execute_result"
    }
   ],
   "source": [
    "# Format DataFrame for display.\n",
    "get_salaries_wealths_df(model_data)"
   ]
  },
  {
   "cell_type": "code",
   "execution_count": 9,
   "id": "dff035e4",
   "metadata": {},
   "outputs": [
    {
     "data": {
      "text/html": [
       "<div>\n",
       "<style scoped>\n",
       "    .dataframe tbody tr th:only-of-type {\n",
       "        vertical-align: middle;\n",
       "    }\n",
       "\n",
       "    .dataframe tbody tr th {\n",
       "        vertical-align: top;\n",
       "    }\n",
       "\n",
       "    .dataframe thead th {\n",
       "        text-align: right;\n",
       "    }\n",
       "</style>\n",
       "<table border=\"1\" class=\"dataframe\">\n",
       "  <thead>\n",
       "    <tr style=\"text-align: right;\">\n",
       "      <th></th>\n",
       "      <th>Year</th>\n",
       "      <th>Salary</th>\n",
       "      <th>Wealth</th>\n",
       "    </tr>\n",
       "  </thead>\n",
       "  <tbody>\n",
       "    <tr>\n",
       "      <th>0</th>\n",
       "      <td>1</td>\n",
       "      <td>257500.000000</td>\n",
       "      <td>38625.000000</td>\n",
       "    </tr>\n",
       "    <tr>\n",
       "      <th>1</th>\n",
       "      <td>2</td>\n",
       "      <td>291747.500000</td>\n",
       "      <td>84318.375000</td>\n",
       "    </tr>\n",
       "    <tr>\n",
       "      <th>2</th>\n",
       "      <td>3</td>\n",
       "      <td>300499.925000</td>\n",
       "      <td>133609.282500</td>\n",
       "    </tr>\n",
       "    <tr>\n",
       "      <th>3</th>\n",
       "      <td>4</td>\n",
       "      <td>340466.415025</td>\n",
       "      <td>191359.708879</td>\n",
       "    </tr>\n",
       "    <tr>\n",
       "      <th>4</th>\n",
       "      <td>5</td>\n",
       "      <td>350680.407476</td>\n",
       "      <td>253529.755444</td>\n",
       "    </tr>\n",
       "  </tbody>\n",
       "</table>\n",
       "</div>"
      ],
      "text/plain": [
       "   Year         Salary         Wealth\n",
       "0     1  257500.000000   38625.000000\n",
       "1     2  291747.500000   84318.375000\n",
       "2     3  300499.925000  133609.282500\n",
       "3     4  340466.415025  191359.708879\n",
       "4     5  350680.407476  253529.755444"
      ]
     },
     "execution_count": 9,
     "metadata": {},
     "output_type": "execute_result"
    }
   ],
   "source": [
    "# Save the function results into the DataFrame.\n",
    "results_df = get_salaries_wealths_df(model_data)\n",
    "\n",
    "# View the DataFrame.\n",
    "results_df.head()"
   ]
  },
  {
   "cell_type": "markdown",
   "id": "60f15937",
   "metadata": {},
   "source": [
    "## 4. Create visualisation"
   ]
  },
  {
   "cell_type": "code",
   "execution_count": 10,
   "id": "455c51f9",
   "metadata": {},
   "outputs": [
    {
     "data": {
      "text/plain": [
       "<AxesSubplot:xlabel='Year'>"
      ]
     },
     "execution_count": 10,
     "metadata": {},
     "output_type": "execute_result"
    },
    {
     "data": {
      "image/png": "[encoded data removed]",
      "text/plain": [
       "<Figure size 432x288 with 1 Axes>"
      ]
     },
     "metadata": {
      "needs_background": "light"
     },
     "output_type": "display_data"
    }
   ],
   "source": [
    "# Visualise wage or salary change over time.\n",
    "results_df.plot( 'Year' , 'Salary')"
   ]
  },
  {
   "cell_type": "code",
   "execution_count": 11,
   "id": "169820a6",
   "metadata": {},
   "outputs": [
    {
     "data": {
      "text/plain": [
       "<AxesSubplot:xlabel='Year'>"
      ]
     },
     "execution_count": 11,
     "metadata": {},
     "output_type": "execute_result"
    },
    {
     "data": {
      "image/png": "[encoded data removed]",
      "text/plain": [
       "<Figure size 432x288 with 1 Axes>"
      ]
     },
     "metadata": {
      "needs_background": "light"
     },
     "output_type": "display_data"
    }
   ],
   "source": [
    "# Visualise wealth change over time.\n",
    "results_df.plot( 'Year' , 'Wealth')"
   ]
  },
  {
   "cell_type": "code",
   "execution_count": null,
   "id": "37826e11",
   "metadata": {},
   "outputs": [],
   "source": []
  }
 ],
 "metadata": {
  "kernelspec": {
   "display_name": "Python 3 (ipykernel)",
   "language": "python",
   "name": "python3"
  },
  "language_info": {
   "codemirror_mode": {
    "name": "ipython",
    "version": 3
   },
   "file_extension": ".py",
   "mimetype": "text/x-python",
   "name": "python",
   "nbconvert_exporter": "python",
   "pygments_lexer": "ipython3",
   "version": "3.9.7"
  }
 },
 "nbformat": 4,
 "nbformat_minor": 5
}
